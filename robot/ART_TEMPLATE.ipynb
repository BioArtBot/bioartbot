{
 "cells": [
  {
   "cell_type": "markdown",
   "metadata": {},
   "source": [
    "# BioArtBot Artistic Procedure\n",
    "This file contains a procedure that the Opentrons OT2 can use to make the art you just collected into a _reality!_ This notebook style is a good choice if you have a lot of artpieces, or need to troubleshoot, because you get to run the code incrementally.\n",
    "\n",
    "If you haven't done so already, connect to the Jupyter Notbook server of your OT2 at ```[Robot's IP address]:48888``` in your browser. Full docs on this can be found [here](https://support.opentrons.com/en/articles/1795367-running-the-robot-using-jupyter-notebook) From the main page of the Jupyter server, click \"Upload\" in the top-right, and upload this file.\n",
    "\n",
    "After that, you just need to run each cell in order (click inside cell, then ```shift+enter```). The cells are broken up so you can confirm each worked before progressing to the next one. **The robot won't move until you run the last cell**. For best results, make sure you have calibrated the robot for each type of lab equipment you'll use first. The OT2 App can walk you through this."
   ]
  },
  {
   "cell_type": "markdown",
   "metadata": {},
   "source": [
    "### Cell 1: Setup and connect to robot\n",
    "Estimated time: almost immediate"
   ]
  },
  {
   "cell_type": "code",
   "execution_count": null,
   "metadata": {},
   "outputs": [],
   "source": [
    "from opentrons import labware, instruments, robot\n",
    "import math\n",
    "\n",
    "robot.connect()"
   ]
  },
  {
   "cell_type": "markdown",
   "metadata": {},
   "source": [
    "### Cell 2: Define labware and pipetting method\n",
    "Estimated time: a few seconds at most"
   ]
  },
  {
   "cell_type": "code",
   "execution_count": null,
   "metadata": {},
   "outputs": [],
   "source": [
    "metadata = {\n",
    "    'protocolName': 'CCL ARTBot',\n",
    "    'author': 'Tim Dobbs and Counter Culture Labs',\n",
    "    'source': 'ARTBot Protocol Builder'\n",
    "    }\n",
    "\n",
    "def distribute_to_agar(self, vol, source, destination, disposal_vol):\n",
    "    \n",
    "    self.max_volume = 20\n",
    "\n",
    "    dest = list(destination) #allows for non-lists\n",
    "\n",
    "    for cnt, well in enumerate(dest):\n",
    "        if (cnt + 1) % 150 == 0:\n",
    "            self.drop_tip()\n",
    "            self.current_volume = 0\n",
    "\n",
    "        if not self.current_tip():\n",
    "            self.pick_up_tip()\n",
    "\n",
    "        if self.current_volume < (vol + disposal_vol):\n",
    "            remaining_wells = len(dest) - cnt\n",
    "            remaining_vol = remaining_wells * vol\n",
    "\n",
    "            if remaining_vol + disposal_vol > self.max_volume:\n",
    "                asp_vol = math.floor((self.max_volume - disposal_vol) / vol) * vol + disposal_vol - self.current_volume\n",
    "            else:\n",
    "                asp_vol = remaining_vol + disposal_vol - self.current_volume\n",
    "\n",
    "            self.aspirate(asp_vol, source)\n",
    "\n",
    "        self.move_to(well, strategy='arc')\n",
    "        self.dispense(vol)\n",
    "\n",
    "    self.drop_tip()\n",
    "\n",
    "# a 6-well plate for all of the colors in our pallette\n",
    "palette = labware.load('%%PALETTE GOES HERE%%', 11)\n",
    "\n",
    "# a tip rack for our pipette\n",
    "tiprack = labware.load('%%TIPRACK GOES HERE%%', 10)\n",
    "\n",
    "pipette = instruments.%%PIPETTE GOES HERE%%(\n",
    "            mount='left',\n",
    "            tip_racks=[tiprack]\n",
    "    )"
   ]
  },
  {
   "cell_type": "markdown",
   "metadata": {},
   "source": [
    "### Cell 3: Define pixel colors, canvas location and color map\n",
    "_This part is unique to each set of artpieces you make_  \n",
    "Estimated time: almost immediate"
   ]
  },
  {
   "cell_type": "code",
   "execution_count": null,
   "metadata": {},
   "outputs": [],
   "source": [
    "pixels_by_color_by_artpiece = %%PIXELS GO HERE%%\n",
    "canvas_locations = %%CANVAS LOCATIONS GO HERE%%\n",
    "color_map = %%COLORS GO HERE%%"
   ]
  },
  {
   "cell_type": "markdown",
   "metadata": {},
   "source": [
    "### Cell 4: Define & setup colored culture locations on plate\n",
    "_This will prompt you to fill your color as directed_"
   ]
  },
  {
   "cell_type": "code",
   "execution_count": null,
   "metadata": {},
   "outputs": [],
   "source": [
    "def well_generator(plate):\n",
    "    for well in plate.wells():\n",
    "        yield well\n",
    "get_well = well_generator(palette)\n",
    "\n",
    "# colored culture locations\n",
    "palette_colors = { color: next(get_well) for color in pixels_by_color_by_artpiece.keys() }\n",
    "for color in palette_colors:\n",
    "    print(f'{color_map[color]} -> {palette_colors[color]}')\n",
    "input('Once you have filled and placed the color plate, press enter to continue...')"
   ]
  },
  {
   "cell_type": "markdown",
   "metadata": {},
   "source": [
    "### Cell 5: Define \"canvas\" labware objects\n",
    "Estimated time: This can take a very long time. ~5 minutes per artpiece"
   ]
  },
  {
   "cell_type": "code",
   "execution_count": null,
   "metadata": {},
   "outputs": [],
   "source": [
    "# plates to create art in\n",
    "canvas_labware = dict()\n",
    "for art_title in canvas_locations:\n",
    "    print('Making canvas for ' + art_title)\n",
    "    canvas_labware[art_title] = labware.load('CCL_ARTBot_canvas', canvas_locations[art_title])"
   ]
  },
  {
   "cell_type": "markdown",
   "metadata": {},
   "source": [
    "### Cell 6: \\* Run the procedure \\*\n",
    "Activate this last one only when you're ready for the robot to start  \n",
    "Estimated time: Depends on how many pixels are in the art, but figure on at least 20min per artpiece"
   ]
  },
  {
   "cell_type": "code",
   "execution_count": null,
   "metadata": {},
   "outputs": [],
   "source": [
    "# wells to dispense each color material to\n",
    "pixels_by_color = dict()\n",
    "for color in pixels_by_color_by_artpiece:\n",
    "    pixels_by_color[color] = list()\n",
    "    pixels_by_artpiece = pixels_by_color_by_artpiece[color]\n",
    "    for art_title in pixels_by_artpiece:\n",
    "        pixels_by_color[color] += [\n",
    "            (canvas_labware[art_title]\n",
    "            ,canvas_labware[art_title].wells('A1').from_center(x=pixel[0], y=pixel[1], z=-2.8).coordinates)\n",
    "            for pixel in pixels_by_artpiece[art_title]\n",
    "        ]\n",
    "        if not len(pixels_by_artpiece[art_title]): #single-well case\n",
    "            pixel = pixels_by_artpiece[art_title]\n",
    "            pixels_by_color[color] += [\n",
    "                (canvas_labware[art_title]\n",
    "                ,canvas_labware[art_title].wells('A1').from_center(x=pixel[0], y=pixel[1], z=-2.8).coordinates)]\n",
    "\n",
    "print('Reorganization of pixel dict complete')\n",
    "            \n",
    "def run_custom_protocol():\n",
    "\n",
    "    print('starting colors')\n",
    "    \n",
    "    for color in pixels_by_color:\n",
    "        print('Distributing ' + color)\n",
    "        distribute_to_agar(pipette, 0.1, palette_colors[color], pixels_by_color[color], disposal_vol=4)\n",
    "\n",
    "print('Beginning protocol')\n",
    "        \n",
    "run_custom_protocol()"
   ]
  },
  {
   "cell_type": "code",
   "execution_count": null,
   "metadata": {},
   "outputs": [],
   "source": []
  }
 ],
 "metadata": {
  "kernelspec": {
   "display_name": "Python 3",
   "language": "python",
   "name": "python3"
  },
  "language_info": {
   "codemirror_mode": {
    "name": "ipython",
    "version": 3
   },
   "file_extension": ".py",
   "mimetype": "text/x-python",
   "name": "python",
   "nbconvert_exporter": "python",
   "pygments_lexer": "ipython3",
   "version": "3.8.1"
  }
 },
 "nbformat": 4,
 "nbformat_minor": 2
}